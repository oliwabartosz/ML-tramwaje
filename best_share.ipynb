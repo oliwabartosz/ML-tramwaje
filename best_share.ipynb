{
 "cells": [
  {
   "cell_type": "code",
   "execution_count": 1,
   "id": "eight-drive",
   "metadata": {},
   "outputs": [],
   "source": [
    "import mlflow\n",
    "import xgbfir"
   ]
  },
  {
   "cell_type": "code",
   "execution_count": 2,
   "id": "endangered-contemporary",
   "metadata": {},
   "outputs": [],
   "source": [
    "def get_or_create_experiment(name):\n",
    "    experiment = mlflow.get_experiment_by_name(name)\n",
    "    if experiment is None:\n",
    "        mlflow.create_experiment(name)\n",
    "        return mlflow.get_experiment_by_name(name)\n",
    "    \n",
    "    return experiment\n",
    "\n",
    "def _eid(name):\n",
    "    return get_or_create_experiment(name).experiment_id"
   ]
  },
  {
   "cell_type": "code",
   "execution_count": 3,
   "id": "african-twist",
   "metadata": {},
   "outputs": [
    {
     "data": {
      "text/plain": [
       "'3'"
      ]
     },
     "execution_count": 3,
     "metadata": {},
     "output_type": "execute_result"
    }
   ],
   "source": [
    "_eid('starter_1')"
   ]
  },
  {
   "cell_type": "code",
   "execution_count": 4,
   "id": "corresponding-aquatic",
   "metadata": {},
   "outputs": [],
   "source": [
    "import pandas as pd\n",
    "import numpy as np\n",
    "np.random.seed(0)\n",
    "\n",
    "from sklearn.model_selection import cross_validate, KFold\n",
    "import xgboost as xgb\n",
    "import catboost as ctb\n",
    "import lightgbm as lgb\n",
    "from sklearn.dummy import DummyRegressor\n",
    "from sklearn.tree import DecisionTreeRegressor\n",
    "from sklearn.ensemble import RandomForestRegressor\n",
    "\n",
    "# Visuals\n",
    "import scikitplot as skplt\n",
    "from scikitplot.estimators import plot_learning_curve\n",
    "import matplotlib.pyplot as plt\n",
    "%matplotlib inline\n",
    "import seaborn as sns\n",
    "\n",
    "# Missing data\n",
    "from sklearn.impute import KNNImputer"
   ]
  },
  {
   "cell_type": "code",
   "execution_count": 5,
   "id": "sticky-cement",
   "metadata": {},
   "outputs": [
    {
     "name": "stdout",
     "output_type": "stream",
     "text": [
      "(308152, 11)\n"
     ]
    }
   ],
   "source": [
    "df_train = pd.read_hdf('../input/tram.train.h5')\n",
    "df_test = pd.read_hdf('../input/tram.test.h5')\n",
    "\n",
    "df = pd.concat([df_train, df_test], axis=0)\n",
    "\n",
    "print(df.shape)"
   ]
  },
  {
   "cell_type": "code",
   "execution_count": 6,
   "id": "modified-michigan",
   "metadata": {},
   "outputs": [
    {
     "data": {
      "text/html": [
       "<div>\n",
       "<style scoped>\n",
       "    .dataframe tbody tr th:only-of-type {\n",
       "        vertical-align: middle;\n",
       "    }\n",
       "\n",
       "    .dataframe tbody tr th {\n",
       "        vertical-align: top;\n",
       "    }\n",
       "\n",
       "    .dataframe thead th {\n",
       "        text-align: right;\n",
       "    }\n",
       "</style>\n",
       "<table border=\"1\" class=\"dataframe\">\n",
       "  <thead>\n",
       "    <tr style=\"text-align: right;\">\n",
       "      <th></th>\n",
       "      <th>id</th>\n",
       "      <th>delay</th>\n",
       "      <th>datetime</th>\n",
       "      <th>stop</th>\n",
       "      <th>stop_name</th>\n",
       "      <th>number</th>\n",
       "      <th>direction</th>\n",
       "      <th>planned_time</th>\n",
       "      <th>vehicle_id</th>\n",
       "      <th>trip_id</th>\n",
       "      <th>seq_num</th>\n",
       "    </tr>\n",
       "  </thead>\n",
       "  <tbody>\n",
       "    <tr>\n",
       "      <th>0</th>\n",
       "      <td>0</td>\n",
       "      <td>0.0</td>\n",
       "      <td>2018-07-23 06:00:47</td>\n",
       "      <td>612</td>\n",
       "      <td>Borsucza</td>\n",
       "      <td>22</td>\n",
       "      <td>Walcownia</td>\n",
       "      <td>2018-07-23 06:00:00</td>\n",
       "      <td>6.352185e+18</td>\n",
       "      <td>6351558574044899587</td>\n",
       "      <td>7.0</td>\n",
       "    </tr>\n",
       "    <tr>\n",
       "      <th>1</th>\n",
       "      <td>1</td>\n",
       "      <td>0.0</td>\n",
       "      <td>2018-07-23 06:00:48</td>\n",
       "      <td>572</td>\n",
       "      <td>Smolki</td>\n",
       "      <td>11</td>\n",
       "      <td>Czerwone Maki P+R</td>\n",
       "      <td>2018-07-23 06:00:00</td>\n",
       "      <td>6.352185e+18</td>\n",
       "      <td>6351558574044670211</td>\n",
       "      <td>10.0</td>\n",
       "    </tr>\n",
       "    <tr>\n",
       "      <th>2</th>\n",
       "      <td>2</td>\n",
       "      <td>0.0</td>\n",
       "      <td>2018-07-23 06:00:49</td>\n",
       "      <td>322</td>\n",
       "      <td>Filharmonia</td>\n",
       "      <td>8</td>\n",
       "      <td>Bronowice Małe</td>\n",
       "      <td>2018-07-23 06:01:00</td>\n",
       "      <td>6.352185e+18</td>\n",
       "      <td>6351558574044592386</td>\n",
       "      <td>15.0</td>\n",
       "    </tr>\n",
       "    <tr>\n",
       "      <th>3</th>\n",
       "      <td>3</td>\n",
       "      <td>0.0</td>\n",
       "      <td>2018-07-23 06:00:51</td>\n",
       "      <td>363</td>\n",
       "      <td>Hala Targowa</td>\n",
       "      <td>1</td>\n",
       "      <td>Salwator</td>\n",
       "      <td>2018-07-23 06:01:00</td>\n",
       "      <td>6.352185e+18</td>\n",
       "      <td>6351558574044379394</td>\n",
       "      <td>24.0</td>\n",
       "    </tr>\n",
       "    <tr>\n",
       "      <th>4</th>\n",
       "      <td>4</td>\n",
       "      <td>0.0</td>\n",
       "      <td>2018-07-23 06:00:52</td>\n",
       "      <td>78</td>\n",
       "      <td>Batorego</td>\n",
       "      <td>24</td>\n",
       "      <td>Bronowice Małe</td>\n",
       "      <td>2018-07-23 06:00:00</td>\n",
       "      <td>6.352185e+18</td>\n",
       "      <td>6351558574044948738</td>\n",
       "      <td>19.0</td>\n",
       "    </tr>\n",
       "    <tr>\n",
       "      <th>...</th>\n",
       "      <td>...</td>\n",
       "      <td>...</td>\n",
       "      <td>...</td>\n",
       "      <td>...</td>\n",
       "      <td>...</td>\n",
       "      <td>...</td>\n",
       "      <td>...</td>\n",
       "      <td>...</td>\n",
       "      <td>...</td>\n",
       "      <td>...</td>\n",
       "      <td>...</td>\n",
       "    </tr>\n",
       "    <tr>\n",
       "      <th>308141</th>\n",
       "      <td>308141</td>\n",
       "      <td>NaN</td>\n",
       "      <td>NaN</td>\n",
       "      <td>89</td>\n",
       "      <td>Bronowice</td>\n",
       "      <td>14</td>\n",
       "      <td>Bronowice Małe</td>\n",
       "      <td>2018-07-31 23:55:00</td>\n",
       "      <td>6.352185e+18</td>\n",
       "      <td>6351558574044741905</td>\n",
       "      <td>33.0</td>\n",
       "    </tr>\n",
       "    <tr>\n",
       "      <th>308142</th>\n",
       "      <td>308142</td>\n",
       "      <td>NaN</td>\n",
       "      <td>NaN</td>\n",
       "      <td>2690</td>\n",
       "      <td>Kampus UJ</td>\n",
       "      <td>18</td>\n",
       "      <td>Czerwone Maki P+R</td>\n",
       "      <td>2018-07-31 23:57:00</td>\n",
       "      <td>6.352185e+18</td>\n",
       "      <td>6351558574044791061</td>\n",
       "      <td>24.0</td>\n",
       "    </tr>\n",
       "    <tr>\n",
       "      <th>308143</th>\n",
       "      <td>308143</td>\n",
       "      <td>NaN</td>\n",
       "      <td>NaN</td>\n",
       "      <td>133</td>\n",
       "      <td>Wesele</td>\n",
       "      <td>14</td>\n",
       "      <td>Bronowice Małe</td>\n",
       "      <td>2018-07-31 23:56:00</td>\n",
       "      <td>6.352185e+18</td>\n",
       "      <td>6351558574044741905</td>\n",
       "      <td>34.0</td>\n",
       "    </tr>\n",
       "    <tr>\n",
       "      <th>308144</th>\n",
       "      <td>308144</td>\n",
       "      <td>NaN</td>\n",
       "      <td>NaN</td>\n",
       "      <td>630</td>\n",
       "      <td>Bieżanowska</td>\n",
       "      <td>24</td>\n",
       "      <td>Kurdwanów P+R</td>\n",
       "      <td>2018-07-31 23:56:00</td>\n",
       "      <td>6.352185e+18</td>\n",
       "      <td>6351558574044950804</td>\n",
       "      <td>23.0</td>\n",
       "    </tr>\n",
       "    <tr>\n",
       "      <th>308145</th>\n",
       "      <td>308145</td>\n",
       "      <td>NaN</td>\n",
       "      <td>NaN</td>\n",
       "      <td>2691</td>\n",
       "      <td>Chmieleniec</td>\n",
       "      <td>18</td>\n",
       "      <td>Czerwone Maki P+R</td>\n",
       "      <td>2018-07-31 23:58:00</td>\n",
       "      <td>6.352185e+18</td>\n",
       "      <td>6351558574044791061</td>\n",
       "      <td>25.0</td>\n",
       "    </tr>\n",
       "  </tbody>\n",
       "</table>\n",
       "<p>308152 rows × 11 columns</p>\n",
       "</div>"
      ],
      "text/plain": [
       "            id  delay             datetime  stop     stop_name  number  \\\n",
       "0            0    0.0  2018-07-23 06:00:47   612      Borsucza      22   \n",
       "1            1    0.0  2018-07-23 06:00:48   572        Smolki      11   \n",
       "2            2    0.0  2018-07-23 06:00:49   322   Filharmonia       8   \n",
       "3            3    0.0  2018-07-23 06:00:51   363  Hala Targowa       1   \n",
       "4            4    0.0  2018-07-23 06:00:52    78      Batorego      24   \n",
       "...        ...    ...                  ...   ...           ...     ...   \n",
       "308141  308141    NaN                  NaN    89     Bronowice      14   \n",
       "308142  308142    NaN                  NaN  2690     Kampus UJ      18   \n",
       "308143  308143    NaN                  NaN   133        Wesele      14   \n",
       "308144  308144    NaN                  NaN   630   Bieżanowska      24   \n",
       "308145  308145    NaN                  NaN  2691   Chmieleniec      18   \n",
       "\n",
       "                direction         planned_time    vehicle_id  \\\n",
       "0               Walcownia  2018-07-23 06:00:00  6.352185e+18   \n",
       "1       Czerwone Maki P+R  2018-07-23 06:00:00  6.352185e+18   \n",
       "2          Bronowice Małe  2018-07-23 06:01:00  6.352185e+18   \n",
       "3                Salwator  2018-07-23 06:01:00  6.352185e+18   \n",
       "4          Bronowice Małe  2018-07-23 06:00:00  6.352185e+18   \n",
       "...                   ...                  ...           ...   \n",
       "308141     Bronowice Małe  2018-07-31 23:55:00  6.352185e+18   \n",
       "308142  Czerwone Maki P+R  2018-07-31 23:57:00  6.352185e+18   \n",
       "308143     Bronowice Małe  2018-07-31 23:56:00  6.352185e+18   \n",
       "308144      Kurdwanów P+R  2018-07-31 23:56:00  6.352185e+18   \n",
       "308145  Czerwone Maki P+R  2018-07-31 23:58:00  6.352185e+18   \n",
       "\n",
       "                    trip_id  seq_num  \n",
       "0       6351558574044899587      7.0  \n",
       "1       6351558574044670211     10.0  \n",
       "2       6351558574044592386     15.0  \n",
       "3       6351558574044379394     24.0  \n",
       "4       6351558574044948738     19.0  \n",
       "...                     ...      ...  \n",
       "308141  6351558574044741905     33.0  \n",
       "308142  6351558574044791061     24.0  \n",
       "308143  6351558574044741905     34.0  \n",
       "308144  6351558574044950804     23.0  \n",
       "308145  6351558574044791061     25.0  \n",
       "\n",
       "[308152 rows x 11 columns]"
      ]
     },
     "execution_count": 6,
     "metadata": {},
     "output_type": "execute_result"
    }
   ],
   "source": [
    "df"
   ]
  },
  {
   "cell_type": "markdown",
   "id": "changing-occurrence",
   "metadata": {},
   "source": [
    "# FEATURE ENGIEERING"
   ]
  },
  {
   "cell_type": "code",
   "execution_count": 61,
   "id": "decent-paragraph",
   "metadata": {},
   "outputs": [],
   "source": [
    "#pd.options.display.max_rows = 999"
   ]
  },
  {
   "cell_type": "code",
   "execution_count": 62,
   "id": "specialized-scott",
   "metadata": {},
   "outputs": [
    {
     "data": {
      "image/png": "[encoded data removed]",
      "text/plain": [
       "<Figure size 1080x360 with 1 Axes>"
      ]
     },
     "metadata": {
      "needs_background": "light"
     },
     "output_type": "display_data"
    }
   ],
   "source": [
    "# df.loc[df['delay'] == 0, 'stop'].value_counts() > 0\n",
    "\n",
    "traffic_loc = [125, 624, 131, 365, 3158, 358, 623, 359, 621, 88, 630, 3036, 1360, 77, 408,78,79,357,2741,571,561,83,1154,126,\n",
    "               946,3032,2811,560,361,61,]\n",
    "\n",
    "no_delays_stops = [2548, 3037, 2821, 321, 464,461,462,460,128,449,450,466]\n",
    "\n",
    "df['traffic_loc'] = df['stop'].apply(lambda x: 1 if x in traffic_loc else 0)\n",
    "df['no_delays_stops'] = df['stop'].apply(lambda x: 1 if x in no_delays_stops else 0)\n",
    "\n",
    "plt.figure(figsize=(15, 5))\n",
    "sns.barplot(x=\"traffic_loc\", y=\"delay\", data=df)\n",
    "plt.xticks(rotation=90);"
   ]
  },
  {
   "cell_type": "code",
   "execution_count": 63,
   "id": "exposed-beatles",
   "metadata": {},
   "outputs": [],
   "source": [
    "df[\"stop_name_cat\"] = df[\"stop_name\"].factorize()[0]\n",
    "df[\"direction_cat\"] = df[\"direction\"].factorize()[0]\n",
    "\n",
    "df['planned_time'] = pd.to_datetime(df['planned_time'], format='%Y-%m-%d %H:%M:%S')\n",
    "df['day'] = df['planned_time'].dt.dayofweek\n",
    "df['month'] = df['planned_time'].dt.month\n",
    "df['hour'] = df['planned_time'].dt.hour\n",
    "df['minute'] = df['planned_time'].dt.minute\n",
    "df['rush_hours'] = df['hour'].apply(lambda x: 1 if (x > 5 and x < 10) | (x > 14 and x < 19) else 0)\n",
    "df['night_hours'] = df['hour'].apply(lambda x: 1 if (x < 6 or x > 21) else 0)\n",
    "\n",
    "df['vehicle_id_log'] = df['vehicle_id'].map(lambda x: np.log(x))\n",
    "df['vehicle_id_cat'] = pd.factorize(df['vehicle_id_log'])[0]\n",
    "\n",
    "#df['trip_id'] = df['trip_id'].apply(lambda x: int(str(x).split(\"63515585740\")[1]))\n",
    "df['trip_id_log'] = df['trip_id'].map(lambda x: np.log10(x))\n",
    "df['trip_id_cat'] = df['trip_id'].factorize()[0]\n",
    "df['stop_hour'] = df['stop']/df['hour']\n"
   ]
  },
  {
   "cell_type": "code",
   "execution_count": 64,
   "id": "favorite-astronomy",
   "metadata": {},
   "outputs": [
    {
     "name": "stdout",
     "output_type": "stream",
     "text": [
      "2382\n"
     ]
    }
   ],
   "source": [
    "print(df['seq_num'].isna().sum())\n",
    "\n",
    "# Tutaj próbowałem imputować braki w seq_num, ale tylko pogarszało to sprawę\n",
    "\n",
    "# df_kNN = df[['stop', 'direction_cat', 'number', 'trip_id_log', 'seq_num']]\n",
    "# print('before:',df_kNN.isna().sum())\n",
    "\n",
    "# from sklearn.preprocessing import MinMaxScaler\n",
    "# scaler = MinMaxScaler(feature_range=(0,1))\n",
    "# df_kNN = scaler.fit_transform(df_kNN)\n",
    "\n",
    "# imputer = KNNImputer(n_neighbors=10)\n",
    "# df_kNN = imputer.fit_transform(df_kNN)\n",
    "\n",
    "# df_kNN = scaler.inverse_transform(df_kNN)\n",
    "\n",
    "# df_kNN = pd.DataFrame(data = df_kNN, columns=['stop','direction_cat', 'number','trip_id_log', 'seq_num'])\n",
    "# df_kNN['seq_num'] = df_kNN['seq_num'].map(lambda x: np.ceil(x))\n",
    "\n",
    "\n",
    "# print('after:',df_kNN.isna().sum())\n",
    "\n",
    "# df['seq_num'] = df_kNN['seq_num']\n"
   ]
  },
  {
   "cell_type": "code",
   "execution_count": 65,
   "id": "twenty-foundation",
   "metadata": {},
   "outputs": [],
   "source": [
    "df['high_seq_num'] = df['seq_num'].map(lambda x: x > 20)\n",
    "df['seq_num'] = df['seq_num'].fillna(99)\n",
    "df['trip_id_seq_num_number'] = df['trip_id_log']*df['seq_num']*df['number']\n",
    "df['stop_seqnum'] = df['stop']/df['seq_num']"
   ]
  },
  {
   "cell_type": "code",
   "execution_count": 66,
   "id": "formal-mortgage",
   "metadata": {},
   "outputs": [
    {
     "data": {
      "text/plain": [
       "12.0    41178\n",
       "14.0    29459\n",
       "13.0    27237\n",
       "15.0    25430\n",
       "5.0     16367\n",
       "10.0    16159\n",
       "8.0     15718\n",
       "16.0    15420\n",
       "1.0     13063\n",
       "3.0     12013\n",
       "11.0    11839\n",
       "18.0     9788\n",
       "4.0      9757\n",
       "17.0     9381\n",
       "7.0      8564\n",
       "6.0      8455\n",
       "9.0      6088\n",
       "20.0     5887\n",
       "2.0      5554\n",
       "23.0     5079\n",
       "21.0     3656\n",
       "19.0     3518\n",
       "25.0     2622\n",
       "22.0     1796\n",
       "26.0     1224\n",
       "33.0      855\n",
       "31.0      847\n",
       "32.0      693\n",
       "29.0      355\n",
       "35.0      149\n",
       "99.0        1\n",
       "Name: seq_num_median, dtype: int64"
      ]
     },
     "execution_count": 66,
     "metadata": {},
     "output_type": "execute_result"
    }
   ],
   "source": [
    "seq_num_dict = df.groupby('stop').agg(np.median)['seq_num'].to_dict()\n",
    "df['seq_num_median'] = df['stop'].map(seq_num_dict)\n",
    "seq_num_dict = df.groupby('stop').agg(pd.Series.mode)['seq_num'].to_dict()\n",
    "df['seq_num_mode'] = df['stop'].map(seq_num_dict)\n",
    "df['seq_num_power2'] = df['seq_num']*df['seq_num']\n",
    "\n",
    "df['seq_num_median'].value_counts()"
   ]
  },
  {
   "cell_type": "code",
   "execution_count": 67,
   "id": "equipped-pierce",
   "metadata": {},
   "outputs": [],
   "source": [
    "# Alternatives\n",
    "\n",
    "freq_enc = df.groupby('hour').size()/len(df)\n",
    "df['hour_frec_enc'] = df['hour'].map(freq_enc)\n",
    "\n",
    "freq_enc = df.groupby('seq_num').size()/len(df)\n",
    "df['seq_num_frec_enc'] = df['seq_num'].map(freq_enc)\n",
    "\n",
    "freq_enc = df.groupby('day').size()/len(df)\n",
    "df['day_frec'] = df['day'].map(freq_enc)\n",
    "\n",
    "mean_encode = df.groupby('seq_num')['delay'].mean()\n",
    "df['seq_num_m_enc'] = df.loc[:, 'seq_num_m_enc'] = df['seq_num'].map(mean_encode)\n",
    "\n",
    "mean_encode = df.groupby('hour')['delay'].mean()\n",
    "df['hour_m_enc'] = df['hour'].map(freq_enc)\n",
    "\n",
    "mean_encode = df.groupby('number')['delay'].size()/len(df)\n",
    "df['number_frec_enc'] = df['number'].map(mean_encode)\n",
    "\n",
    "mean_encode = df.groupby('direction_cat')['delay'].size()/len(df)\n",
    "df['direction_cat_fenc'] = df['direction_cat'].map(mean_encode)"
   ]
  },
  {
   "cell_type": "code",
   "execution_count": 68,
   "id": "environmental-comment",
   "metadata": {},
   "outputs": [
    {
     "data": {
      "text/plain": [
       " 0.0         84271\n",
       " 60.0        59102\n",
       "-60.0        57264\n",
       " 120.0       29546\n",
       "-120.0       28559\n",
       " 180.0       13618\n",
       "-180.0       12921\n",
       " 240.0        6114\n",
       "-240.0        5795\n",
       " 300.0        2719\n",
       "-300.0        2611\n",
       " 360.0        1308\n",
       "-360.0        1214\n",
       "-420.0         684\n",
       " 420.0         658\n",
       " 480.0         365\n",
       "-480.0         360\n",
       "-540.0         244\n",
       " 540.0         236\n",
       "-600.0         126\n",
       " 600.0         125\n",
       " 660.0          68\n",
       "-660.0          60\n",
       " 720.0          48\n",
       "-720.0          39\n",
       "-780.0          32\n",
       " 780.0          28\n",
       " 840.0          10\n",
       "-840.0          10\n",
       " 86520.0         2\n",
       " 86400.0         1\n",
       " 16680.0         1\n",
       " 1140.0          1\n",
       "-960.0           1\n",
       " 187800.0        1\n",
       "-691620.0        1\n",
       " 86640.0         1\n",
       " 86820.0         1\n",
       "-1080.0          1\n",
       " 15660.0         1\n",
       " 15420.0         1\n",
       " 15300.0         1\n",
       " 14280.0         1\n",
       "-900.0           1\n",
       " 259080.0        1\n",
       "Name: time_diff, dtype: int64"
      ]
     },
     "execution_count": 68,
     "metadata": {},
     "output_type": "execute_result"
    }
   ],
   "source": [
    "df['time_diff'] = df['planned_time'].diff()\n",
    "df['time_diff'] = df['time_diff'].dt.total_seconds()\n",
    "df['stop_diff'] = df['stop'].diff()\n",
    "#for x, y in zip(df['time_diff'], df['stop_diff']):\n",
    "#    if y != 0:\n",
    "#        x = 0\n",
    "df['time_diff'] = df['time_diff'].fillna(0)\n",
    "#df = df.sort_index()\n",
    "df['time_diff'].value_counts()"
   ]
  },
  {
   "cell_type": "code",
   "execution_count": 69,
   "id": "prescription-agency",
   "metadata": {},
   "outputs": [],
   "source": [
    "df_stopname_delay = df_train[[\"stop_name\", \"delay\"]].groupby(\"stop_name\").agg(\n",
    "    mean_stopname_delay=(\"delay\", \"mean\"),\n",
    "    median_stopname_delay=(\"delay\", \"median\"),\n",
    "    count_stopname_delay=(\"delay\", \"count\"),\n",
    "    std_stopname_delay=(\"delay\", \"std\"),\n",
    "    count_zeros_stopname_delay=(\"delay\", lambda vals: len([x for x in vals if x == 0]) ),\n",
    "    prob_zeros_stopname_delay=(\"delay\", lambda vals: np.mean([x == 0 for x in vals]) ),\n",
    ").reset_index()\n",
    "\n",
    "df_stopname_delay\n",
    "df = pd.merge(df, df_stopname_delay, on=\"stop_name\")\n",
    "\n",
    "def df_group_delay(df_train, groupby_feats):\n",
    "    agg_params = {\n",
    "        \"mean_{}_delay\".format(\"_\".join(groupby_feats)): (\"delay\", \"mean\"),\n",
    "        \"median_{}_delay\".format(\"_\".join(groupby_feats)): (\"delay\", \"median\"),\n",
    "        \"count_{}_delay\".format(\"_\".join(groupby_feats)): (\"delay\", \"count\"),\n",
    "        \"std_{}_delay\".format(\"_\".join(groupby_feats)): (\"delay\", \"std\"),\n",
    "        \"count_zeros_{}_delay\".format(\"_\".join(groupby_feats)): (\"delay\", lambda vals: len([x for x in vals if x == 0]) ),\n",
    "        \"prob_zeros_{}_delay\".format(\"_\".join(groupby_feats)): (\"delay\", lambda vals: np.mean([x == 0 for x in vals]) ),\n",
    "    }\n",
    "    \n",
    "    return df_train[groupby_feats + [\"delay\"]].groupby(groupby_feats).agg(\n",
    "        **agg_params\n",
    "    ).reset_index()\n",
    "\n",
    "df_tmp = df_group_delay(df_train, [\"stop_name\"])\n",
    "if \"mean_stopname_delay\" not in df:\n",
    "    df = pd.merge(df, df_tmp, on=\"stop_name\", how=\"left\")\n",
    "    \n",
    "df_tmp = df_group_delay(df_train, [\"stop_name\", \"direction\"])\n",
    "if \"mean_stopname_direction_delay\" not in df:\n",
    "    df = pd.merge(df, df_tmp, on=[\"stop_name\", \"direction\"], how=\"left\")\n"
   ]
  },
  {
   "cell_type": "markdown",
   "id": "least-medication",
   "metadata": {},
   "source": [
    "# Przygotowanie zmiennych do modelu"
   ]
  },
  {
   "cell_type": "code",
   "execution_count": 70,
   "id": "hearing-philip",
   "metadata": {},
   "outputs": [
    {
     "data": {
      "text/plain": [
       "['stop',\n",
       " 'number',\n",
       " 'seq_num',\n",
       " 'traffic_loc',\n",
       " 'direction_cat',\n",
       " 'day',\n",
       " 'month',\n",
       " 'hour',\n",
       " 'rush_hours',\n",
       " 'night_hours',\n",
       " 'vehicle_id_log',\n",
       " 'vehicle_id_cat',\n",
       " 'stop_hour',\n",
       " 'trip_id_seq_num_number',\n",
       " 'stop_seqnum',\n",
       " 'seq_num_median',\n",
       " 'seq_num_mode',\n",
       " 'hour_frec_enc',\n",
       " 'seq_num_frec_enc',\n",
       " 'seq_num_m_enc',\n",
       " 'hour_m_enc',\n",
       " 'number_frec_enc',\n",
       " 'direction_cat_fenc',\n",
       " 'time_diff',\n",
       " 'mean_stopname_delay',\n",
       " 'median_stopname_delay',\n",
       " 'count_stopname_delay',\n",
       " 'std_stopname_delay',\n",
       " 'count_zeros_stopname_delay',\n",
       " 'prob_zeros_stopname_delay',\n",
       " 'mean_stop_name_direction_delay',\n",
       " 'median_stop_name_direction_delay',\n",
       " 'count_stop_name_direction_delay',\n",
       " 'std_stop_name_direction_delay',\n",
       " 'count_zeros_stop_name_direction_delay',\n",
       " 'prob_zeros_stop_name_direction_delay']"
      ]
     },
     "execution_count": 70,
     "metadata": {},
     "output_type": "execute_result"
    }
   ],
   "source": [
    "feats = df.select_dtypes(\"number\").columns\n",
    "black_list = [\"id\", \"delay\", \"trip_id\", 'trip_id_log', 'vehicle_id', 'super_seq', 'stop_name_cat', 'est_delay', 'minute', 'seq_num_^2_median', \n",
    "              'seq_num_tmp','no_delays_stops','seq_num_power2', 'trip_id_seq_num_number_m_frec','day_frec','trip_id_cat', 'stop_diff']\n",
    "feats = [x for x in feats if x not in black_list]\n",
    "\n",
    "feats"
   ]
  },
  {
   "cell_type": "code",
   "execution_count": 71,
   "id": "corrected-initial",
   "metadata": {},
   "outputs": [
    {
     "data": {
      "text/plain": [
       "((175986, 36), (175986,), (132166, 36))"
      ]
     },
     "execution_count": 71,
     "metadata": {},
     "output_type": "execute_result"
    }
   ],
   "source": [
    "# Rozdzielenie TRAIN i TEST\n",
    "df_train = df[ df[\"delay\"].notnull() ].copy().fillna(-1)\n",
    "df_test = df[ df[\"delay\"].isnull() ].copy().fillna(-1)\n",
    "\n",
    "\n",
    "X_train = df_train[feats].values\n",
    "y_train = df_train[\"delay\"].values\n",
    "X_test = df_test[feats].values\n",
    "\n",
    "X_train.shape, y_train.shape, X_test.shape"
   ]
  },
  {
   "cell_type": "markdown",
   "id": "fiscal-accommodation",
   "metadata": {},
   "source": [
    "# MODELE"
   ]
  },
  {
   "cell_type": "code",
   "execution_count": 89,
   "id": "exposed-perry",
   "metadata": {},
   "outputs": [],
   "source": [
    "def get_models(use_dummy=False):\n",
    "    \n",
    "    models = [('dummy', DummyRegressor(strategy='median'))] if use_dummy else []\n",
    "\n",
    "    models += [\n",
    "       ('xgboost', xgb.XGBRegressor(n_estimators=50, max_depth=5, eta=0.4, random_state=0,)),\n",
    "       ('catboost', ctb.CatBoostRegressor(n_estimators=50, max_depth=5, learning_rate=0.4,  random_state=0, verbose=False)),\n",
    "       ('lightgbm', lgb.LGBMRegressor(n_estimators=50, max_depth=5, learning_rate=0.2, random_state=0)),\n",
    "    ]\n",
    "    \n",
    "    return models\n",
    "\n",
    "        \n",
    "def run_experiment(model_name, model, X, y, exp_name, cv=3, scoring=[\"neg_mean_absolute_error\", \"neg_mean_squared_error\",  \"neg_median_absolute_error\", \"r2\"], tags={}, params={}, template_for_run_name=\"{}\"):\n",
    "    cv = KFold(n_splits=cv, shuffle=True, random_state=0)\n",
    "    \n",
    "    model_str = str(model).split(\"(\")[0]     \n",
    "\n",
    "    with mlflow.start_run(experiment_id=_eid(exp_name), run_name=template_for_run_name.format(model_name)) as run:\n",
    "        tags[\"model\"] = model_str\n",
    "        tags[\"X.shape\"] = X.shape\n",
    "        tags[\"y.shape\"] = y.shape\n",
    "        \n",
    "        mlflow.set_tags(tags)\n",
    "        result = cross_validate(model, X, y, scoring=scoring, return_train_score=True, return_estimator=True)\n",
    "        estimator = result.get(\"estimator\")\n",
    "        if estimator:\n",
    "            del result[\"estimator\"]\n",
    "        \n",
    "        ### TRACK PARAMS\n",
    "        params.update(model.get_params()) \n",
    "        params.update(tags)\n",
    "        params.update({\n",
    "            \"cv\": str(cv),\n",
    "            # Poniższy kod wymaga jakiegoś fajnego rozwiązania <- mlflow ma ograniczenie do 250 znaków.\n",
    "            \"feats\":feats[:5],\n",
    "            \"feats_2\":feats[5:7],\n",
    "            \"feats_3\":feats[7:10],\n",
    "            \"feats_4\":feats[10:11],\n",
    "            \"feats_5\":feats[11],\n",
    "            'feats_6':feats[12],\n",
    "            \"feats_7\":feats[13],\n",
    "            \"feats_7\":feats[14],\n",
    "            \"feats_8\":feats[15],\n",
    "            \"feats_9\":feats[16],\n",
    "            \"feats_10\":feats[17],\n",
    "            \"feats_11\":feats[18],\n",
    "            \"feats_12\":feats[19],\n",
    "            \"feats_13\":feats[20],\n",
    "            \"feats_14\":feats[21],\n",
    "            \"feats_15\":feats[22],\n",
    "            \"feats_16\":feats[23],\n",
    "            \"feats_17\":feats[24],\n",
    "            \"feats_18\":feats[25],\n",
    "            \"feats_16\":feats[26],\n",
    "            \"feats_17\":feats[27],\n",
    "            \"feats_18\":feats[28],\n",
    "            \"feats_19\":feats[29:],\n",
    "            \n",
    "        })\n",
    "        mlflow.log_params(params)\n",
    "\n",
    "        ### TRACK METRICS\n",
    "        metrics = {}\n",
    "        metrics.update({\"avg_{}\".format(x): np.mean(result[x]) for x in result})\n",
    "        metrics.update({\"std_{}\".format(x): np.std(result[x]) for x in result})\n",
    "\n",
    "        mlflow.log_metrics(metrics)\n",
    "\n",
    "        print(\"model={}, {}\\n\".format(model_name, metrics))"
   ]
  },
  {
   "cell_type": "code",
   "execution_count": 90,
   "id": "macro-heater",
   "metadata": {},
   "outputs": [
    {
     "name": "stdout",
     "output_type": "stream",
     "text": [
      "model=xgboost, {'avg_fit_time': 9.208625888824463, 'avg_score_time': 0.07795076370239258, 'avg_test_neg_mean_absolute_error': -30.415995842460642, 'avg_train_neg_mean_absolute_error': -29.401115327124575, 'avg_test_neg_mean_squared_error': -1824.7595815241743, 'avg_train_neg_mean_squared_error': -1700.7944441251507, 'avg_test_neg_median_absolute_error': -22.28459014892578, 'avg_train_neg_median_absolute_error': -21.51019744873047, 'avg_test_r2': 0.731302833946529, 'avg_train_r2': 0.7500035991515398, 'std_fit_time': 8.231686184334844, 'std_score_time': 0.022142177952685287, 'std_test_neg_mean_absolute_error': 1.2333271988602612, 'std_train_neg_mean_absolute_error': 0.32929224037892413, 'std_test_neg_mean_squared_error': 103.09150843753049, 'std_train_neg_mean_squared_error': 25.321480481590434, 'std_test_neg_median_absolute_error': 1.2903543271073004, 'std_train_neg_median_absolute_error': 0.39459994158319983, 'std_test_r2': 0.010572568857917844, 'std_train_r2': 0.003038724949387923}\n",
      "\n",
      "model=catboost, {'avg_fit_time': 2.610984516143799, 'avg_score_time': 0.39744906425476073, 'avg_test_neg_mean_absolute_error': -30.636510761091973, 'avg_train_neg_mean_absolute_error': -30.21635251288763, 'avg_test_neg_mean_squared_error': -1831.4347520562637, 'avg_train_neg_mean_squared_error': -1784.000861644098, 'avg_test_neg_median_absolute_error': -22.753392515461123, 'avg_train_neg_median_absolute_error': -22.448334861912635, 'avg_test_r2': 0.7303190676210136, 'avg_train_r2': 0.7377749351475661, 'std_fit_time': 0.08575157903966944, 'std_score_time': 0.015119793204572927, 'std_test_neg_mean_absolute_error': 1.3289463463133764, 'std_train_neg_mean_absolute_error': 0.3514355341826549, 'std_test_neg_mean_squared_error': 108.37830498987586, 'std_train_neg_mean_squared_error': 25.730890583764385, 'std_test_neg_median_absolute_error': 1.3588060456096178, 'std_train_neg_median_absolute_error': 0.36584800641238985, 'std_test_r2': 0.011673979002610373, 'std_train_r2': 0.0028865180465009405}\n",
      "\n",
      "model=lightgbm, {'avg_fit_time': 17.50124821662903, 'avg_score_time': 0.05940241813659668, 'avg_test_neg_mean_absolute_error': -30.36954081670779, 'avg_train_neg_mean_absolute_error': -29.748241088299004, 'avg_test_neg_mean_squared_error': -1818.9037733675782, 'avg_train_neg_mean_squared_error': -1746.6861597519783, 'avg_test_neg_median_absolute_error': -22.21036305164217, 'avg_train_neg_median_absolute_error': -21.73008531435294, 'avg_test_r2': 0.7321580058379322, 'avg_train_r2': 0.7432587567344129, 'std_fit_time': 3.5215837493403948, 'std_score_time': 0.024269479364298827, 'std_test_neg_mean_absolute_error': 1.3050955333644132, 'std_train_neg_mean_absolute_error': 0.3206776490481624, 'std_test_neg_mean_squared_error': 109.29456553567583, 'std_train_neg_mean_squared_error': 25.96877559824754, 'std_test_neg_median_absolute_error': 1.3794796737698134, 'std_train_neg_median_absolute_error': 0.26347960987303654, 'std_test_r2': 0.012087178113825767, 'std_train_r2': 0.0030522187288555625}\n",
      "\n"
     ]
    }
   ],
   "source": [
    "for model_name, model in get_models():\n",
    "    tags = {}\n",
    "    params = {}\n",
    "    run_experiment(model_name, model, X_train, y_train, exp_name=\"starter1\", tags=tags, params=params)"
   ]
  },
  {
   "cell_type": "markdown",
   "id": "empty-hepatitis",
   "metadata": {},
   "source": [
    "# xgbfir"
   ]
  },
  {
   "cell_type": "code",
   "execution_count": 28,
   "id": "second-manor",
   "metadata": {},
   "outputs": [],
   "source": [
    "model = xgb.XGBRegressor(n_estimators=50, max_depth=5, eta=0.4, random_state=0)\n",
    "model.fit(X_train, y_train)\n",
    "xgbfir.saveXgbFI(model, feature_names=feats, OutputXlsxFile='tram_fi.xlsx')"
   ]
  },
  {
   "cell_type": "markdown",
   "id": "sized-parish",
   "metadata": {},
   "source": [
    "# mlflow"
   ]
  },
  {
   "cell_type": "code",
   "execution_count": 625,
   "id": "automated-register",
   "metadata": {},
   "outputs": [
    {
     "name": "stdout",
     "output_type": "stream",
     "text": [
      "[2021-10-29 10:46:41 +0000] [150] [INFO] Starting gunicorn 20.1.0\n",
      "[2021-10-29 10:46:41 +0000] [150] [INFO] Listening at: http://127.0.0.1:5000 (150)\n",
      "[2021-10-29 10:46:41 +0000] [150] [INFO] Using worker: sync\n",
      "[2021-10-29 10:46:41 +0000] [152] [INFO] Booting worker with pid: 152\n",
      "^C\n",
      "[2021-10-29 10:46:48 +0000] [150] [INFO] Handling signal: int\n",
      "[2021-10-29 10:46:49 +0000] [152] [INFO] Worker exiting (pid: 152)\n"
     ]
    }
   ],
   "source": [
    "!mlflow ui "
   ]
  },
  {
   "cell_type": "markdown",
   "id": "assured-sharp",
   "metadata": {},
   "source": [
    "https://pml.dataworkshop.eu/hub/user-redirect/proxy/5000/"
   ]
  },
  {
   "cell_type": "markdown",
   "id": "bored-stock",
   "metadata": {},
   "source": [
    "# Do Kaggle"
   ]
  },
  {
   "cell_type": "code",
   "execution_count": 91,
   "id": "possible-publication",
   "metadata": {},
   "outputs": [],
   "source": [
    "model = xgb.XGBRegressor(n_estimators=50, max_depth=5, eta=0.4, random_state=0)\n",
    "model.fit(X_train, y_train)\n",
    "y_pred = model.predict(X_test)\n",
    "y_pred[ y_pred < 0 ] = 0\n",
    "df_test[\"delay\"] = y_pred"
   ]
  },
  {
   "cell_type": "code",
   "execution_count": 92,
   "id": "killing-breathing",
   "metadata": {},
   "outputs": [],
   "source": [
    "df_test[ [\"id\", \"delay\"] ].to_csv('../output/thirteenth.csv', index=False) "
   ]
  }
 ],
 "metadata": {
  "kernelspec": {
   "display_name": "Python 3",
   "language": "python",
   "name": "python3"
  },
  "language_info": {
   "codemirror_mode": {
    "name": "ipython",
    "version": 3
   },
   "file_extension": ".py",
   "mimetype": "text/x-python",
   "name": "python",
   "nbconvert_exporter": "python",
   "pygments_lexer": "ipython3",
   "version": "3.8.6"
  }
 },
 "nbformat": 4,
 "nbformat_minor": 5
}
